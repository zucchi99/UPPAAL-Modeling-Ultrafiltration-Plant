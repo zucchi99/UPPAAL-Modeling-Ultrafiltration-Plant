{
 "cells": [
  {
   "cell_type": "code",
   "execution_count": 78,
   "metadata": {},
   "outputs": [],
   "source": [
    "from functions import *"
   ]
  },
  {
   "cell_type": "code",
   "execution_count": 79,
   "metadata": {},
   "outputs": [
    {
     "name": "stdout",
     "output_type": "stream",
     "text": [
      "parameters:\n",
      "subfolder: UF/\n",
      "file_idx_uppaal: 3\n",
      "file_idx: 0\n",
      "tmp_idx: 0\n",
      "initial_feed_volume_L: 100\n",
      "reset_columns_when_OFF: True\n",
      "drop_initial_final_off_rows: True\n",
      "drop_off_rows: True\n",
      "drop_outliers: True\n",
      "plot_scatterplot_matrix: False\n",
      "use_default_arima_params: True\n",
      "default_arima_params: [1, 1, 0]\n",
      "include_arima_simulations_in_analysis: True\n"
     ]
    }
   ],
   "source": [
    "params = read_parameters()\n",
    "subfolder = params['subfolder']\n",
    "file_idx = params['file_idx']\n",
    "initial_feed_volume_L = params['initial_feed_volume_L']\n",
    "reset_columns_when_OFF = params['reset_columns_when_OFF']"
   ]
  },
  {
   "cell_type": "code",
   "execution_count": 80,
   "metadata": {},
   "outputs": [
    {
     "name": "stdout",
     "output_type": "stream",
     "text": [
      "file list:\n",
      "0 /app/data/from_sensors/0_raw/UF/20240711 clean water - reflux valve closed.csv\n",
      "1 /app/data/from_sensors/0_raw/UF/20240712 clean water - reflux valve open.csv\n",
      "\n",
      "input file:\n",
      "/app/data/from_sensors/0_raw/UF/20240711 clean water - reflux valve closed.csv\n"
     ]
    }
   ],
   "source": [
    "in_folder = PATH_SENSORS_DATA_RAW_UF\n",
    "out_folder = PATH_SENSORS_DATA_EXT_UF_V1\n",
    "cur_file, file_path = get_input_file(in_folder=in_folder, in_file_idx=file_idx, log=True)"
   ]
  },
  {
   "cell_type": "code",
   "execution_count": 81,
   "metadata": {},
   "outputs": [],
   "source": [
    "df_conc = pd.read_excel(FILE_CONCENTRATIONS_DATA)"
   ]
  },
  {
   "cell_type": "code",
   "execution_count": 82,
   "metadata": {},
   "outputs": [],
   "source": [
    "df = pd.read_csv(file_path)\n",
    "# print([ type(c) for c in df.columns ])\n",
    "df.rename(columns=UF_COLUMNS, inplace=True)\n",
    "df['datetime'] = pd.to_datetime(df[\"date\"] + \" \" + df[\"time\"], format='%Y/%m/%d %H:%M:%S')\n",
    "df['time span [s]'] = df['datetime'].diff().dt.total_seconds()\n",
    "df['time span [s]'] = df['time span [s]'].apply(lambda x : 60 if (58 <= x and x <= 62) else x) # 1-2 secs errors are removed\n",
    "df['tank liters [L]'] = df['tank liters [%]'] * FEED_TANK_CAPACITY_LITERS / 100\n",
    "df.loc[0, 'time span [s]'] = 0.0\n",
    "DATE = df.loc[0, 'datetime'].date().isoformat()\n",
    "df = df[change_column_index(df.columns.tolist(), 'TMP [bar]', 7)] \n",
    "df = df[change_column_index(df.columns.tolist(), 'datetime', 0)] \n",
    "df = df[change_column_index(df.columns.tolist(), 'time span [s]', 1)]\n",
    "df = df[change_column_index(df.columns.tolist(), 'tank liters [L]', 11)]\n",
    "df = change_unit_measure(df)\n",
    "df = df.drop(columns=['date', 'time', 'millisecond [ms]'])"
   ]
  },
  {
   "cell_type": "code",
   "execution_count": 83,
   "metadata": {},
   "outputs": [],
   "source": [
    "#out_file = DATE + re.sub(\"^[0-9]*\", \"\", cur_file)\n",
    "out_file = cur_file\n",
    "out_file_path = out_folder + out_file"
   ]
  },
  {
   "cell_type": "code",
   "execution_count": 84,
   "metadata": {},
   "outputs": [],
   "source": [
    "# filter df_conc by date\n",
    "df_conc = df_conc[df_conc['date'] == DATE]"
   ]
  },
  {
   "cell_type": "code",
   "execution_count": 85,
   "metadata": {},
   "outputs": [
    {
     "name": "stdout",
     "output_type": "stream",
     "text": [
      "area tot included!\n",
      "date: 2024-07-11, membrane: LiqTech-COM0251178, number of membranes: 3, total area: 0.99\n"
     ]
    }
   ],
   "source": [
    "print(\"area tot included!\")\n",
    "(mbn_model, mbn_num) = MEMBRANE_USED[DATE]\n",
    "mbn_data = MEMBRANES[mbn_model]\n",
    "mbn_area = mbn_data['area']\n",
    "A = mbn_area * mbn_num # m^2\n",
    "print(f\"date: {DATE}, membrane: {mbn_data['producer']}-{mbn_model}, number of membranes: {mbn_num}, total area: {A}\")\n",
    "df['area tot [m^2]'] = A"
   ]
  },
  {
   "cell_type": "code",
   "execution_count": 86,
   "metadata": {},
   "outputs": [
    {
     "name": "stdout",
     "output_type": "stream",
     "text": [
      "viscosity included!\n"
     ]
    }
   ],
   "source": [
    "print(\"viscosity included!\")\n",
    "df['prs permeate + ATM [Pa]'] = (df['prs permeate [kPa]'] + PRS_ATM_kpa) * 1000\n",
    "df['viscosity permeate [Pa s]'] = df.apply((lambda x : calc_viscosity(x['temperature [°C]'], pressure_Pa=x['prs permeate + ATM [Pa]'], element='Water')), axis=1)\n",
    "df = df[change_column_index(df.columns.tolist(), 'viscosity permeate [Pa s]', 8)]\n",
    "df = df.drop(columns=['prs permeate + ATM [Pa]'])"
   ]
  },
  {
   "cell_type": "code",
   "execution_count": 87,
   "metadata": {},
   "outputs": [
    {
     "name": "stdout",
     "output_type": "stream",
     "text": [
      "flux included!\n"
     ]
    }
   ],
   "source": [
    "print(\"flux included!\")\n",
    "# [L / h]   = [m^2]    * [L / m^2 h]\n",
    "# flow_prmt = area_tot * flux ==> flux = flow_prmt / area_tot\n",
    "df['flux [L/m^2h]'] = df['flow permeate [L/h]'] / A"
   ]
  },
  {
   "cell_type": "code",
   "execution_count": 88,
   "metadata": {},
   "outputs": [],
   "source": [
    "# print(\"crossflow velocity included!\")\n",
    "\n",
    "# [m/s]        = [m^3 / h]                 / (  [m^2]  * [s/h] )\n",
    "# vlct_crsflow = liters__to__m3(flow_feed) / (area_tot * SECS_PER_HRS);\n",
    "# df['vlct crsflow [m/s]'] = (df['flow feed [L/h]'] / (1000.0 * 3600.0)) / A\n",
    "\n",
    "# flow_rtnt_m3 = 0.25 * area_tot * (SECS_PER_HRS * vlct_crsflow) * mbn_diam / mbn_len\n",
    "# [m/s]                    =  [m^3 / h]                            / (  [s / h        ) / (   [m^2]  )\n",
    "#df['vlct crsflow 2 [m/s]'] = (mbn_len * df['flow retentate [L/h]'] / (1000.0 * 3600.0)) / (0.25 * A * (2 * mbn_radius))"
   ]
  },
  {
   "cell_type": "code",
   "execution_count": 89,
   "metadata": {},
   "outputs": [
    {
     "name": "stdout",
     "output_type": "stream",
     "text": [
      "pressure input included!\n"
     ]
    }
   ],
   "source": [
    "print(\"pressure input included!\")\n",
    "# PRS_IN = density [kg / m^3] * gravity [m / s^2] * height [m] = 997 * 9.81 * 1.0 = 9780,57 [Pa] = 9,78 [kPa]\n",
    "df['prs input [kPa]'] = 10.0\n",
    "df = df[change_column_index(df.columns.tolist(), 'prs input [kPa]', 2)]"
   ]
  },
  {
   "cell_type": "code",
   "execution_count": 90,
   "metadata": {},
   "outputs": [
    {
     "name": "stdout",
     "output_type": "stream",
     "text": [
      "total resistance included!\n"
     ]
    }
   ],
   "source": [
    "print(\"total resistance included!\")\n",
    "# res_tot = res_mbn + res_conc_pol + res_fouling\n",
    "# flux = prs_TMP / (viscosity * res_tot) ==> res_tot = prs_TMP / (viscosity_permeate * flux)\n",
    "# [1/m]             =     [kPa]       / ([m^3 / m^2 s]                              * [kPa s])\n",
    "df['res tot [1/m]'] = df['TMP [kPa]'] / ((df['flux [L/m^2h]'] / (1000.0 * 3600.0)) * (df['viscosity permeate [Pa s]'] / 1000.0))"
   ]
  },
  {
   "cell_type": "code",
   "execution_count": 91,
   "metadata": {},
   "outputs": [
    {
     "name": "stdout",
     "output_type": "stream",
     "text": [
      "permeate viscosity and flux assuming constant temperature of 20°C included!\n"
     ]
    }
   ],
   "source": [
    "df['viscosity permeate at 20°C [Pa s]'] = df.apply((lambda x : calc_viscosity(20, pressure_Pa=1000*(PRS_ATM_kpa+x['prs permeate [kPa]']), element='Water')), axis=1)\n",
    "df['flux at 20° [L/m^2h]'] = df['flux [L/m^2h]'] * df['viscosity permeate [Pa s]'] / df['viscosity permeate at 20°C [Pa s]']\n",
    "print('permeate viscosity and flux assuming constant temperature of 20°C included!')"
   ]
  },
  {
   "cell_type": "code",
   "execution_count": 92,
   "metadata": {},
   "outputs": [
    {
     "name": "stdout",
     "output_type": "stream",
     "text": [
      "is_ON flag included!\n"
     ]
    }
   ],
   "source": [
    "print(\"is_ON flag included!\")\n",
    "# add bool flag when machine is ON\n",
    "df['is_ON'] = df['TMP [kPa]'] >= 5"
   ]
  },
  {
   "cell_type": "code",
   "execution_count": 93,
   "metadata": {},
   "outputs": [
    {
     "name": "stdout",
     "output_type": "stream",
     "text": [
      "setting to zero the following columns when the machine is OFF:\n",
      " - flow feed [L/h]\n",
      " - flow permeate [L/h]\n",
      " - flow retentate [L/h]\n",
      " - flux [L/m^2h]\n",
      " - res tot [1/m]\n",
      " - flux at 20° [L/m^2h]\n"
     ]
    }
   ],
   "source": [
    "if reset_columns_when_OFF :\n",
    "    print(f\"setting to zero the following columns when the machine is OFF:\")\n",
    "    for c in df.columns :\n",
    "        if re.match(\"^(flow)|(flux)|(res).*\", c) :\n",
    "            print(f\" - {c}\")\n",
    "            df[c] = df.apply(reset_cols_if_is_OFF, axis=1, args=('is_ON', c))"
   ]
  },
  {
   "cell_type": "code",
   "execution_count": 94,
   "metadata": {},
   "outputs": [
    {
     "name": "stdout",
     "output_type": "stream",
     "text": [
      "vol feed [L] included!\n",
      "vol permeate [L] included!\n",
      "delta vol permeate [L] included!\n",
      "time [m] included!\n"
     ]
    }
   ],
   "source": [
    "# add empty columns\n",
    "for c in ['vol feed [L]', 'vol permeate [L]', 'delta vol permeate [L]', 'time [m]'] :\n",
    "    print(f\"{c} included!\")\n",
    "    df[c] = 0.0\n",
    "df = df[change_column_index(df.columns.tolist(), 'time [m]', 2)] \n",
    "df.loc[0, 'vol feed [L]'] = initial_feed_volume_L\n",
    "# iterate on rows to calculate values\n",
    "for i in range(1, len(df)):\n",
    "    df.loc[i, 'time [m]'] = df.loc[i-1, 'time [m]'] + (df.loc[i, 'time span [s]'] / 60)\n",
    "    df.loc[i, 'delta vol permeate [L]'] = (df.loc[i-1, 'flow permeate [L/h]'] / 60)\n",
    "    if (df.loc[i, 'time span [s]'] <= 180) :\n",
    "        # update\n",
    "        df.loc[i, 'vol permeate [L]'] = df.loc[i-1, 'vol permeate [L]'] + df.loc[i, 'delta vol permeate [L]']\n",
    "        df.loc[i, 'vol feed [L]']     = df.loc[i-1, 'vol feed [L]']     - df.loc[i, 'vol permeate [L]']\n",
    "    else : \n",
    "        # reset\n",
    "        df.loc[i, 'vol permeate [L]'] = 0.0\n",
    "        df.loc[i, 'vol feed [L]']     = initial_feed_volume_L"
   ]
  },
  {
   "cell_type": "code",
   "execution_count": 95,
   "metadata": {},
   "outputs": [],
   "source": [
    "increased_TMP = []\n",
    "decreased_TMP = []\n",
    "starting = []\n",
    "jumped_temperature = []\n",
    "if DATE == '2023-11-08' :\n",
    "    jumped_temperature = [0]\n",
    "    starting      = [1, 3, 73]\n",
    "    increased_TMP = [1, 3, 4, 6, 73, 74]\n",
    "    decreased_TMP = [86, 125, 158, 186, 217]\n",
    "if DATE == '2023-11-09' :\n",
    "    jumped_temperature = [5, 6, 32, 153, 154]\n",
    "    starting      = [154]\n",
    "    increased_TMP = [6, 37, 42, 48, 56, 87, 90, 91, 93, 95, 154, 155, 161, 165, 168, 171]\n",
    "    decreased_TMP = [27, 64, 99, 100, 183]\n",
    "#if DATE == '2023-11-10' :\n",
    "#    jumped_temperature = [1]\n",
    "#    starting      = [1]\n",
    "#    increased_TMP = [1, 2]\n",
    "#    decreased_TMP = []"
   ]
  },
  {
   "cell_type": "code",
   "execution_count": 96,
   "metadata": {},
   "outputs": [],
   "source": [
    "df['increased TMP'] = 0\n",
    "df['decreased TMP'] = 0\n",
    "df['starting'] = 0\n",
    "df['jumped temperature'] = 0\n",
    "for i in increased_TMP :\n",
    "    df.loc[i, 'increased TMP'] = 1\n",
    "for i in decreased_TMP :\n",
    "    df.loc[i, 'decreased TMP'] = 1\n",
    "for i in starting :\n",
    "    df.loc[i, 'starting'] = 1\n",
    "for i in jumped_temperature :\n",
    "    df.loc[i, 'jumped temperature'] = 1\n",
    "df['changed TMP'] = ((df['increased TMP'] == 1) | (df['decreased TMP'] == 1) | (df['starting'] == 1))"
   ]
  },
  {
   "cell_type": "code",
   "execution_count": 97,
   "metadata": {},
   "outputs": [
    {
     "name": "stdout",
     "output_type": "stream",
     "text": [
      "added TMP groups\n"
     ]
    }
   ],
   "source": [
    "df.loc[0, 'TMP group'] = 0\n",
    "for i in range(1, len(df)) :\n",
    "    cur_group = df.loc[i-1, 'TMP group'] + (0 if df.loc[i, 'changed TMP'] == 0 else 1)\n",
    "    df.loc[i, 'TMP group'] = cur_group\n",
    "print('added TMP groups')"
   ]
  },
  {
   "cell_type": "code",
   "execution_count": 98,
   "metadata": {},
   "outputs": [],
   "source": [
    "def get_concentration(df_conc, sample_group=0, initial=1, sample_type='feed') :\n",
    "    df_tmp = df_conc[(df_conc['sample type'] == sample_type) & (df_conc['initial'] == initial) & (df_conc['sample group'] == sample_group)]\n",
    "    df_tmp = df_tmp.reset_index()\n",
    "    conc = np.nan\n",
    "    if not df_tmp.empty :\n",
    "        conc = df_tmp.loc[0, 'concentration [g/L]']\n",
    "    return conc"
   ]
  },
  {
   "cell_type": "code",
   "execution_count": 99,
   "metadata": {},
   "outputs": [
    {
     "name": "stdout",
     "output_type": "stream",
     "text": [
      "0: ((None, None), 'unknown')\n"
     ]
    }
   ],
   "source": [
    "# by default: only one global\n",
    "conc_interval = CONCENTRATION_INTERVALS.get(out_file, DEFAULT_CONC_GROUP)\n",
    "for (k,v) in conc_interval.items() :\n",
    "    print(f\"{k}: {v}\")"
   ]
  },
  {
   "cell_type": "code",
   "execution_count": 100,
   "metadata": {},
   "outputs": [
    {
     "name": "stdout",
     "output_type": "stream",
     "text": [
      "splitting df according to different concentrations\n"
     ]
    }
   ],
   "source": [
    "print(\"splitting df according to different concentrations\")\n",
    "for (group, ((l,r), title)) in conc_interval.items() :\n",
    "    dfi = df[l:r].reset_index(drop=False)\n",
    "    dfi['feed concentration [g/L]'] = np.nan\n",
    "    dfi['retentate concentration [g/L]'] = np.nan\n",
    "    dfi['permeate concentration [g/L]'] = np.nan\n",
    "    FIRST = 0\n",
    "    LAST  = len(dfi) - 1\n",
    "    dfi.loc[FIRST,      'feed concentration [g/L]'] = get_concentration(df_conc, sample_group=group, initial=1, sample_type='feed')\n",
    "    dfi.loc[FIRST, 'retentate concentration [g/L]'] = get_concentration(df_conc, sample_group=group, initial=1, sample_type='retentate')\n",
    "    dfi.loc[FIRST,  'permeate concentration [g/L]'] = get_concentration(df_conc, sample_group=group, initial=1, sample_type='permeate')\n",
    "    dfi.loc[LAST,  'retentate concentration [g/L]'] = get_concentration(df_conc, sample_group=group, initial=0, sample_type='retentate')\n",
    "    dfi.loc[LAST,   'permeate concentration [g/L]'] = get_concentration(df_conc, sample_group=group, initial=0, sample_type='permeate')\n",
    "    # store initial concentration also as a constant column\n",
    "    dfi['initial feed concentration [g/L]']         = get_concentration(df_conc, sample_group=group, initial=1, sample_type='feed')\n",
    "    dfi['initial retentate concentration [g/L]']    = get_concentration(df_conc, sample_group=group, initial=1, sample_type='retentate')\n",
    "    dfi['initial permeate concentration [g/L]']     = get_concentration(df_conc, sample_group=group, initial=1, sample_type='permeate')\n",
    "    # start from t=1\n",
    "    dfi['time [m]'] = dfi['time [m]'] - dfi.loc[0, 'time [m]'] + 1\n",
    "    out_file_i = (out_folder + DATE + ' ' + str(group) + ' ' + title + '.csv')\n",
    "    # EXPORT according to concentrations\n",
    "    dfi.to_csv(out_file_i, index=False)"
   ]
  },
  {
   "cell_type": "code",
   "execution_count": 101,
   "metadata": {},
   "outputs": [],
   "source": [
    "# start from t=1\n",
    "# df['time [m]'] = df['time [m]'] - df.loc[0, 'time [m]'] + 1"
   ]
  },
  {
   "cell_type": "code",
   "execution_count": 102,
   "metadata": {},
   "outputs": [],
   "source": [
    "#############################\n",
    "# EXPORT\n",
    "# print(f\"extended dataset exported as csv: {out_file}\")\n",
    "# df.to_csv(out_file, index=False)"
   ]
  }
 ],
 "metadata": {
  "kernelspec": {
   "display_name": "venv",
   "language": "python",
   "name": "python3"
  },
  "language_info": {
   "codemirror_mode": {
    "name": "ipython",
    "version": 3
   },
   "file_extension": ".py",
   "mimetype": "text/x-python",
   "name": "python",
   "nbconvert_exporter": "python",
   "pygments_lexer": "ipython3",
   "version": "3.11.2"
  }
 },
 "nbformat": 4,
 "nbformat_minor": 2
}
