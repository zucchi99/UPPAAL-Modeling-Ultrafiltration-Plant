{
 "cells": [
  {
   "cell_type": "code",
   "execution_count": 1,
   "metadata": {},
   "outputs": [],
   "source": [
    "from functions import *"
   ]
  },
  {
   "cell_type": "code",
   "execution_count": 2,
   "metadata": {},
   "outputs": [
    {
     "name": "stdout",
     "output_type": "stream",
     "text": [
      "parameters:\n",
      "subfolder: UF/\n",
      "file_idx_uppaal: 3\n",
      "file_idx: 0\n",
      "tmp_idx: 0\n",
      "initial_feed_volume_L: 100\n",
      "reset_columns_when_OFF: True\n",
      "drop_initial_final_off_rows: True\n",
      "drop_off_rows: True\n",
      "drop_outliers: True\n",
      "plot_scatterplot_matrix: False\n",
      "use_default_arima_params: True\n",
      "default_arima_params: [1, 1, 0]\n",
      "include_arima_simulations_in_analysis: True\n"
     ]
    }
   ],
   "source": [
    "params = read_parameters()\n",
    "subfolder = params['subfolder']\n",
    "file_idx = params['file_idx']\n",
    "initial_feed_volume_L = params['initial_feed_volume_L']\n",
    "reset_columns_when_OFF = params['reset_columns_when_OFF']"
   ]
  },
  {
   "cell_type": "code",
   "execution_count": 3,
   "metadata": {},
   "outputs": [
    {
     "name": "stdout",
     "output_type": "stream",
     "text": [
      "file list:\n",
      "0 /app/data/from_sensors/0_raw/UF/2024-07-11 tap water - reflux valve closed.csv\n",
      "\n",
      "input file:\n",
      "/app/data/from_sensors/0_raw/UF/2024-07-11 tap water - reflux valve closed.csv\n",
      "\n",
      "output file:\n",
      "/app/data/from_sensors/1_extended/UF/v1/2024-07-11 tap water - reflux valve closed.csv\n"
     ]
    }
   ],
   "source": [
    "in_folder = PATH_SENSORS_DATA_RAW_UF\n",
    "out_folder = PATH_SENSORS_DATA_EXT_UF_V1\n",
    "cur_file, file_path = get_input_file(in_folder=in_folder, in_file_idx=file_idx, log=True)\n",
    "out_file_path = out_folder + cur_file\n",
    "print(f\"\\noutput file:\\n{out_file_path}\")"
   ]
  },
  {
   "cell_type": "code",
   "execution_count": 4,
   "metadata": {},
   "outputs": [],
   "source": [
    "df_experiments = pd.read_excel(FILE_EXPERIMENTS_METADATA)\n",
    "df_membranes = pd.read_excel(FILE_MEMBRANES_METADATA)"
   ]
  },
  {
   "cell_type": "code",
   "execution_count": 5,
   "metadata": {},
   "outputs": [
    {
     "name": "stdout",
     "output_type": "stream",
     "text": [
      "ERROR: no associated experiments metadata found, please fill the data in the input file /app/data/metadata/experiments.xlsx!\n"
     ]
    },
    {
     "ename": "SystemExit",
     "evalue": "1",
     "output_type": "error",
     "traceback": [
      "An exception has occurred, use %tb to see the full traceback.\n",
      "\u001b[0;31mSystemExit\u001b[0m\u001b[0;31m:\u001b[0m 1\n"
     ]
    },
    {
     "name": "stderr",
     "output_type": "stream",
     "text": [
      "/opt/venv/lib/python3.11/site-packages/IPython/core/interactiveshell.py:3585: UserWarning: To exit: use 'exit', 'quit', or Ctrl-D.\n",
      "  warn(\"To exit: use 'exit', 'quit', or Ctrl-D.\", stacklevel=1)\n"
     ]
    }
   ],
   "source": [
    "cur_file_name = re.sub('.csv', '', cur_file)\n",
    "# filter only the current experiment data\n",
    "cur_experiment = df_experiments[df_experiments['data file'] == cur_file_name]\n",
    "check_df_size_after_filter(cur_experiment, FILE_EXPERIMENTS_METADATA, 'experiments')\n",
    "membrane_model = cur_experiment['membrane model'].values[0]\n",
    "# filter only the used membrane data\n",
    "cur_membrane = df_membranes[df_membranes['membrane model'] == membrane_model]\n",
    "check_df_size_after_filter(cur_membrane, FILE_MEMBRANES_METADATA, 'memebranes')"
   ]
  },
  {
   "cell_type": "code",
   "execution_count": 7,
   "metadata": {},
   "outputs": [],
   "source": [
    "df = pd.read_csv(file_path)\n",
    "# print([ type(c) for c in df.columns ])\n",
    "df.rename(columns=UF_COLUMNS, inplace=True)\n",
    "df['datetime'] = pd.to_datetime(df[\"date\"] + \" \" + df[\"time\"], format='%Y/%m/%d %H:%M:%S')\n",
    "df['time span [s]'] = df['datetime'].diff().dt.total_seconds()\n",
    "df['time span [s]'] = df['time span [s]'].apply(lambda x : 60 if (58 <= x and x <= 62) else x) # 1-2 secs errors are removed\n",
    "# df['tank liters [L]'] = df['tank liters [%]'] * FEED_TANK_CAPACITY_LITERS / 100\n",
    "df.loc[0, 'time span [s]'] = 0.0\n",
    "DATE = df.loc[0, 'datetime'].date().isoformat()\n",
    "df = df[change_column_index(df.columns.tolist(), 'TMP [bar]', 7)] \n",
    "df = df[change_column_index(df.columns.tolist(), 'datetime', 0)] \n",
    "df = df[change_column_index(df.columns.tolist(), 'time span [s]', 1)]\n",
    "# df = df[change_column_index(df.columns.tolist(), 'tank liters [L]', 11)]\n",
    "df = change_unit_measure(df)\n",
    "df = df.drop(columns=['date', 'time', 'millisecond [ms]'])"
   ]
  },
  {
   "cell_type": "code",
   "execution_count": 11,
   "metadata": {},
   "outputs": [
    {
     "data": {
      "text/html": [
       "<div>\n",
       "<style scoped>\n",
       "    .dataframe tbody tr th:only-of-type {\n",
       "        vertical-align: middle;\n",
       "    }\n",
       "\n",
       "    .dataframe tbody tr th {\n",
       "        vertical-align: top;\n",
       "    }\n",
       "\n",
       "    .dataframe thead th {\n",
       "        text-align: right;\n",
       "    }\n",
       "</style>\n",
       "<table border=\"1\" class=\"dataframe\">\n",
       "  <thead>\n",
       "    <tr style=\"text-align: right;\">\n",
       "      <th></th>\n",
       "      <th>data file</th>\n",
       "      <th>experiment date</th>\n",
       "      <th>membrane model</th>\n",
       "      <th>feed concentration g/L</th>\n",
       "      <th>feed concentration measured at row</th>\n",
       "      <th>number of membranes used</th>\n",
       "    </tr>\n",
       "  </thead>\n",
       "  <tbody>\n",
       "    <tr>\n",
       "      <th>5</th>\n",
       "      <td>2024-07-11 clean water - reflux valve closed</td>\n",
       "      <td>2024-07-11</td>\n",
       "      <td>COM0251178</td>\n",
       "      <td>NaN</td>\n",
       "      <td>NaN</td>\n",
       "      <td>3</td>\n",
       "    </tr>\n",
       "  </tbody>\n",
       "</table>\n",
       "</div>"
      ],
      "text/plain": [
       "                                      data file experiment date  \\\n",
       "5  2024-07-11 clean water - reflux valve closed      2024-07-11   \n",
       "\n",
       "  membrane model  feed concentration g/L  feed concentration measured at row  \\\n",
       "5     COM0251178                     NaN                                 NaN   \n",
       "\n",
       "   number of membranes used  \n",
       "5                         3  "
      ]
     },
     "execution_count": 11,
     "metadata": {},
     "output_type": "execute_result"
    }
   ],
   "source": [
    "cur_experiment"
   ]
  },
  {
   "cell_type": "code",
   "execution_count": 10,
   "metadata": {},
   "outputs": [
    {
     "data": {
      "text/html": [
       "<div>\n",
       "<style scoped>\n",
       "    .dataframe tbody tr th:only-of-type {\n",
       "        vertical-align: middle;\n",
       "    }\n",
       "\n",
       "    .dataframe tbody tr th {\n",
       "        vertical-align: top;\n",
       "    }\n",
       "\n",
       "    .dataframe thead th {\n",
       "        text-align: right;\n",
       "    }\n",
       "</style>\n",
       "<table border=\"1\" class=\"dataframe\">\n",
       "  <thead>\n",
       "    <tr style=\"text-align: right;\">\n",
       "      <th></th>\n",
       "      <th>membrane model</th>\n",
       "      <th>usage</th>\n",
       "      <th>material</th>\n",
       "      <th>manufacturer</th>\n",
       "      <th>number of channels</th>\n",
       "      <th>channel dimension [m]</th>\n",
       "      <th>diameter [m]</th>\n",
       "      <th>length [m]</th>\n",
       "      <th>area [m2]</th>\n",
       "      <th>pore size [nm]</th>\n",
       "      <th>link</th>\n",
       "    </tr>\n",
       "  </thead>\n",
       "  <tbody>\n",
       "    <tr>\n",
       "      <th>1</th>\n",
       "      <td>COM0251178</td>\n",
       "      <td>ultrafiltration</td>\n",
       "      <td>ceramic</td>\n",
       "      <td>LiqTech</td>\n",
       "      <td>30</td>\n",
       "      <td>0.003</td>\n",
       "      <td>0.025</td>\n",
       "      <td>1.178</td>\n",
       "      <td>0.33</td>\n",
       "      <td>60.0</td>\n",
       "      <td>https://liqtech.com/ceramic-membranes-dpf/sili...</td>\n",
       "    </tr>\n",
       "  </tbody>\n",
       "</table>\n",
       "</div>"
      ],
      "text/plain": [
       "  membrane model            usage material manufacturer  number of channels  \\\n",
       "1     COM0251178  ultrafiltration  ceramic      LiqTech                  30   \n",
       "\n",
       "   channel dimension [m]  diameter [m]  length [m]  area [m2]  pore size [nm]  \\\n",
       "1                  0.003         0.025       1.178       0.33            60.0   \n",
       "\n",
       "                                                link  \n",
       "1  https://liqtech.com/ceramic-membranes-dpf/sili...  "
      ]
     },
     "execution_count": 10,
     "metadata": {},
     "output_type": "execute_result"
    }
   ],
   "source": [
    "cur_membrane"
   ]
  },
  {
   "cell_type": "code",
   "execution_count": 20,
   "metadata": {},
   "outputs": [
    {
     "name": "stdout",
     "output_type": "stream",
     "text": [
      "membrane: LiqTech-COM0251178, number of membranes used: 3, total area: 0.99 [m^2]\n"
     ]
    }
   ],
   "source": [
    "num_membrane_used = cur_experiment['number of membranes used'].values[0]\n",
    "membrane_area = cur_membrane['area [m2]'].values[0]\n",
    "A = membrane_area * num_membrane_used # m^2\n",
    "print(f\"membrane: {cur_membrane['manufacturer'].values[0]}-{membrane_model}, number of membranes used: {num_membrane_used}, total area: {A} [m^2]\")\n",
    "df['area tot [m^2]'] = A"
   ]
  },
  {
   "cell_type": "code",
   "execution_count": null,
   "metadata": {},
   "outputs": [],
   "source": [
    "df['prs permeate + ATM [Pa]'] = (df['prs permeate [kPa]'] + PRS_ATM_kpa) * 1000\n",
    "df['viscosity permeate [Pa s]'] = df.apply((lambda x : calc_viscosity(x['temperature [°C]'], pressure_Pa=x['prs permeate + ATM [Pa]'], element='Water')), axis=1)\n",
    "df = df[change_column_index(df.columns.tolist(), 'viscosity permeate [Pa s]', 8)]\n",
    "df = df.drop(columns=['prs permeate + ATM [Pa]'])"
   ]
  },
  {
   "cell_type": "code",
   "execution_count": null,
   "metadata": {},
   "outputs": [],
   "source": [
    "# [L / h]   = [m^2]    * [L / m^2 h]\n",
    "# flow_prmt = area_tot * flux ==> flux = flow_prmt / area_tot\n",
    "df['flux [L/m^2h]'] = df['flow permeate [L/h]'] / A"
   ]
  },
  {
   "cell_type": "code",
   "execution_count": 88,
   "metadata": {},
   "outputs": [],
   "source": [
    "# print(\"crossflow velocity included!\")\n",
    "\n",
    "# [m/s]        = [m^3 / h]                 / (  [m^2]  * [s/h] )\n",
    "# vlct_crsflow = liters__to__m3(flow_feed) / (area_tot * SECS_PER_HRS);\n",
    "# df['vlct crsflow [m/s]'] = (df['flow feed [L/h]'] / (1000.0 * 3600.0)) / A\n",
    "\n",
    "# flow_rtnt_m3 = 0.25 * area_tot * (SECS_PER_HRS * vlct_crsflow) * mbn_diam / mbn_len\n",
    "# [m/s]                    =  [m^3 / h]                            / (  [s / h        ) / (   [m^2]  )\n",
    "#df['vlct crsflow 2 [m/s]'] = (mbn_len * df['flow retentate [L/h]'] / (1000.0 * 3600.0)) / (0.25 * A * (2 * mbn_radius))"
   ]
  },
  {
   "cell_type": "code",
   "execution_count": 89,
   "metadata": {},
   "outputs": [
    {
     "name": "stdout",
     "output_type": "stream",
     "text": [
      "pressure input included!\n"
     ]
    }
   ],
   "source": [
    "# PRS_IN = density [kg / m^3] * gravity [m / s^2] * height [m] = 997 * 9.81 * 1.0 = 9780,57 [Pa] = 9,78 [kPa]\n",
    "df['prs input [kPa]'] = 10.0 #TODO add this data into machines.xlsx\n",
    "df = df[change_column_index(df.columns.tolist(), 'prs input [kPa]', 2)]"
   ]
  },
  {
   "cell_type": "code",
   "execution_count": null,
   "metadata": {},
   "outputs": [],
   "source": [
    "# res_tot = res_mbn + res_conc_pol + res_fouling\n",
    "# flux = prs_TMP / (viscosity * res_tot) ==> res_tot = prs_TMP / (viscosity_permeate * flux)\n",
    "# [1/m]             =     [kPa]       / ([m^3 / m^2 s]                              * [kPa s])\n",
    "df['res tot [1/m]'] = df['TMP [kPa]'] / ((df['flux [L/m^2h]'] / (1000.0 * 3600.0)) * (df['viscosity permeate [Pa s]'] / 1000.0))"
   ]
  },
  {
   "cell_type": "code",
   "execution_count": null,
   "metadata": {},
   "outputs": [],
   "source": [
    "df['viscosity permeate at 20°C [Pa s]'] = df.apply((lambda x : calc_viscosity(20, pressure_Pa=1000*(PRS_ATM_kpa+x['prs permeate [kPa]']), element='Water')), axis=1)\n",
    "df['flux at 20° [L/m^2h]'] = df['flux [L/m^2h]'] * df['viscosity permeate [Pa s]'] / df['viscosity permeate at 20°C [Pa s]']"
   ]
  },
  {
   "cell_type": "code",
   "execution_count": null,
   "metadata": {},
   "outputs": [],
   "source": [
    "# add bool flag when machine is ON\n",
    "df['is_ON'] = df['TMP [kPa]'] >= 5"
   ]
  },
  {
   "cell_type": "code",
   "execution_count": null,
   "metadata": {},
   "outputs": [
    {
     "name": "stdout",
     "output_type": "stream",
     "text": [
      "setting to zero the following columns when the machine is OFF:\n",
      " - flow feed [L/h]\n",
      " - flow permeate [L/h]\n",
      " - flow retentate [L/h]\n",
      " - flux [L/m^2h]\n",
      " - res tot [1/m]\n",
      " - flux at 20° [L/m^2h]\n"
     ]
    }
   ],
   "source": [
    "if reset_columns_when_OFF :\n",
    "    print(f\"setting to zero the following columns when the machine is OFF:\")\n",
    "    for c in df.columns :\n",
    "        if re.match(\"^(flow)|(flux)|(res).*\", c) :\n",
    "            print(f\" - {c}\")\n",
    "            df[c] = df.apply(reset_cols_if_is_OFF, axis=1, args=('is_ON', c))"
   ]
  },
  {
   "cell_type": "code",
   "execution_count": null,
   "metadata": {},
   "outputs": [],
   "source": [
    "df['time [m]'] = df['time span [s]'].cumsum() / 60"
   ]
  },
  {
   "cell_type": "code",
   "execution_count": 97,
   "metadata": {},
   "outputs": [
    {
     "name": "stdout",
     "output_type": "stream",
     "text": [
      "added TMP groups\n"
     ]
    }
   ],
   "source": [
    "# TODO\n",
    "if False :\n",
    "    df.loc[0, 'TMP group'] = 0\n",
    "    for i in range(1, len(df)) :\n",
    "        cur_group = df.loc[i-1, 'TMP group'] + (0 if df.loc[i, 'changed TMP'] == 0 else 1)\n",
    "        df.loc[i, 'TMP group'] = cur_group\n",
    "    print('added TMP groups')"
   ]
  },
  {
   "cell_type": "code",
   "execution_count": 98,
   "metadata": {},
   "outputs": [],
   "source": [
    "def get_concentration(df_conc, sample_group=0, initial=1, sample_type='feed') :\n",
    "    df_tmp = df_conc[(df_conc['sample type'] == sample_type) & (df_conc['initial'] == initial) & (df_conc['sample group'] == sample_group)]\n",
    "    df_tmp = df_tmp.reset_index()\n",
    "    conc = np.nan\n",
    "    if not df_tmp.empty :\n",
    "        conc = df_tmp.loc[0, 'concentration [g/L]']\n",
    "    return conc"
   ]
  },
  {
   "cell_type": "code",
   "execution_count": 99,
   "metadata": {},
   "outputs": [
    {
     "name": "stdout",
     "output_type": "stream",
     "text": [
      "0: ((None, None), 'unknown')\n"
     ]
    }
   ],
   "source": [
    "# by default: only one global\n",
    "conc_interval = CONCENTRATION_INTERVALS.get(out_file, DEFAULT_CONC_GROUP)\n",
    "for (k,v) in conc_interval.items() :\n",
    "    print(f\"{k}: {v}\")"
   ]
  },
  {
   "cell_type": "code",
   "execution_count": 100,
   "metadata": {},
   "outputs": [
    {
     "name": "stdout",
     "output_type": "stream",
     "text": [
      "splitting df according to different concentrations\n"
     ]
    }
   ],
   "source": [
    "print(\"splitting df according to different concentrations\")\n",
    "for (group, ((l,r), title)) in conc_interval.items() :\n",
    "    dfi = df[l:r].reset_index(drop=False)\n",
    "    dfi['feed concentration [g/L]'] = np.nan\n",
    "    dfi['retentate concentration [g/L]'] = np.nan\n",
    "    dfi['permeate concentration [g/L]'] = np.nan\n",
    "    FIRST = 0\n",
    "    LAST  = len(dfi) - 1\n",
    "    dfi.loc[FIRST,      'feed concentration [g/L]'] = get_concentration(df_conc, sample_group=group, initial=1, sample_type='feed')\n",
    "    dfi.loc[FIRST, 'retentate concentration [g/L]'] = get_concentration(df_conc, sample_group=group, initial=1, sample_type='retentate')\n",
    "    dfi.loc[FIRST,  'permeate concentration [g/L]'] = get_concentration(df_conc, sample_group=group, initial=1, sample_type='permeate')\n",
    "    dfi.loc[LAST,  'retentate concentration [g/L]'] = get_concentration(df_conc, sample_group=group, initial=0, sample_type='retentate')\n",
    "    dfi.loc[LAST,   'permeate concentration [g/L]'] = get_concentration(df_conc, sample_group=group, initial=0, sample_type='permeate')\n",
    "    # store initial concentration also as a constant column\n",
    "    dfi['initial feed concentration [g/L]']         = get_concentration(df_conc, sample_group=group, initial=1, sample_type='feed')\n",
    "    dfi['initial retentate concentration [g/L]']    = get_concentration(df_conc, sample_group=group, initial=1, sample_type='retentate')\n",
    "    dfi['initial permeate concentration [g/L]']     = get_concentration(df_conc, sample_group=group, initial=1, sample_type='permeate')\n",
    "    # start from t=1\n",
    "    dfi['time [m]'] = dfi['time [m]'] - dfi.loc[0, 'time [m]'] + 1\n",
    "    out_file_i = (out_folder + DATE + ' ' + str(group) + ' ' + title + '.csv')\n",
    "    # EXPORT according to concentrations\n",
    "    dfi.to_csv(out_file_i, index=False)"
   ]
  },
  {
   "cell_type": "code",
   "execution_count": 101,
   "metadata": {},
   "outputs": [],
   "source": [
    "# start from t=1\n",
    "# df['time [m]'] = df['time [m]'] - df.loc[0, 'time [m]'] + 1"
   ]
  },
  {
   "cell_type": "code",
   "execution_count": 102,
   "metadata": {},
   "outputs": [],
   "source": [
    "#############################\n",
    "# EXPORT\n",
    "# print(f\"extended dataset exported as csv: {out_file}\")\n",
    "# df.to_csv(out_file, index=False)"
   ]
  }
 ],
 "metadata": {
  "kernelspec": {
   "display_name": "venv",
   "language": "python",
   "name": "python3"
  },
  "language_info": {
   "codemirror_mode": {
    "name": "ipython",
    "version": 3
   },
   "file_extension": ".py",
   "mimetype": "text/x-python",
   "name": "python",
   "nbconvert_exporter": "python",
   "pygments_lexer": "ipython3",
   "version": "3.11.2"
  }
 },
 "nbformat": 4,
 "nbformat_minor": 2
}
