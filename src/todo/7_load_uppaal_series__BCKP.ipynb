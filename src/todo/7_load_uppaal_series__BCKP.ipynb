{
 "cells": [
  {
   "cell_type": "code",
   "execution_count": 76,
   "metadata": {},
   "outputs": [],
   "source": [
    "from functions import *"
   ]
  },
  {
   "cell_type": "code",
   "execution_count": 77,
   "metadata": {},
   "outputs": [
    {
     "name": "stdout",
     "output_type": "stream",
     "text": [
      "subfolder: UF/\n",
      "file_idx_uppaal: 0\n",
      "file_idx: 0\n",
      "tmp_idx: 0\n",
      "initial_feed_volume_L: 100\n",
      "reset_columns_when_OFF: True\n",
      "drop_initial_final_off_rows: True\n",
      "drop_off_rows: True\n",
      "drop_outliers: True\n",
      "plot_scatterplot_matrix: False\n",
      "use_default_arima_params: True\n",
      "default_arima_params: [1, 1, 0]\n",
      "include_arima_simulations_in_analysis: True\n"
     ]
    }
   ],
   "source": [
    "params = read_parameters()\n",
    "file_idx_uppaal = params['file_idx_uppaal']\n",
    "plot_scatterplot_matrix = params['plot_scatterplot_matrix']"
   ]
  },
  {
   "cell_type": "code",
   "execution_count": 79,
   "metadata": {},
   "outputs": [
    {
     "name": "stdout",
     "output_type": "stream",
     "text": [
      "file list:\n",
      "0 /workspaces/data_analysis/data/from_uppaal/0_raw/k_n=5.5e-6,n=0,flux_min=res,res_0=4e12.csv\n",
      "1 /workspaces/data_analysis/data/from_uppaal/0_raw/k_n=5e-6,n=0,flux_min=res,res_0=3.3e12.csv\n",
      "2 /workspaces/data_analysis/data/from_uppaal/0_raw/k_n=5e-6,n=0,flux_min=res,res_0=4e12.csv\n",
      "3 /workspaces/data_analysis/data/from_uppaal/0_raw/k_n=5e-6,n=0,flux_min=res.csv\n",
      "4 /workspaces/data_analysis/data/from_uppaal/0_raw/k_n=5e-6,n=0.csv\n",
      "5 /workspaces/data_analysis/data/from_uppaal/0_raw/k_n=6e-6,n=0,flux_min=res,res_0=3.8e12.csv\n",
      "\n",
      "input file:\n",
      "/workspaces/data_analysis/data/from_uppaal/0_raw/k_n=6e-6,n=0,flux_min=res,res_0=3.8e12.csv\n"
     ]
    }
   ],
   "source": [
    "in_folder = PATH_UPPAAL_DATA_RAW\n",
    "out_folder_1 = PATH_UPPAAL_DATA_RAW_REPAIRED\n",
    "out_folder_2 = PATH_UPPAAL_DATA_EXT\n",
    "in_files = [ (in_folder, file) for file in os.listdir(in_folder) if re.match(\".*\\.csv\", file) ]\n",
    "\n",
    "in_file_name = in_files[file_idx_uppaal][1]\n",
    "in_file_path = in_folder + in_file_name\n",
    "out_file_path_1 = out_folder_1 + in_file_name\n",
    "out_file_path_2 = out_folder_2 + in_file_name\n",
    "\n",
    "print(\"file list:\")\n",
    "for i in range(len(in_files)) :\n",
    "    print(i, in_files[i][0] + in_files[i][1])\n",
    "print(f\"\\ninput file:\\n{in_file_path}\")"
   ]
  },
  {
   "cell_type": "code",
   "execution_count": 80,
   "metadata": {},
   "outputs": [],
   "source": [
    "in_file = open(in_file_path, \"r\")\n",
    "out_file_1 = open(out_file_path_1, \"w\")\n",
    "orig_stdout = sys.stdout\n",
    "sys.stdout = out_file_1\n",
    "for line in in_file:\n",
    "    if(re.match('^\\#.*[^,]$', line)) :\n",
    "        print(f'{line[:-1]},')\n",
    "    else :\n",
    "        print(line, end='')\n",
    "sys.stdout = orig_stdout\n",
    "in_file.close()\n",
    "out_file_1.close()"
   ]
  },
  {
   "cell_type": "code",
   "execution_count": 81,
   "metadata": {},
   "outputs": [],
   "source": [
    "COLUMNS_TO_KEEP = [\n",
    "    'time [m]', 'prs_TMP', 'flux', 'flux_min', 'res_tot', 'flux_slope', \n",
    "    'flow_prmt', 'flow_rtnt', 'flow_feed', \n",
    "    'energy_CP', 'energy_PP', \n",
    "    'vol_feed', 'vol_prmt',\n",
    "    'temperature', 'FIXED_TEMPERATURE', 'viscosity', 'prs_rtnt'\n",
    "]\n",
    "# 'time_since_update', \n",
    "# 'conc_prmt', 'energy_per_m3', , 'temperature_sqrt', \n",
    "# 'time_hrs', , 'AREA_TOT', 'conc_feed_0', 'vol_feed_0', 'weight_feed_0'\n",
    "# 'prs_feed_1', 'prs_feed_2', 'prs_rtnt','prs_TMP_delta', 'conc_feed', 'time_min', "
   ]
  },
  {
   "cell_type": "code",
   "execution_count": 82,
   "metadata": {},
   "outputs": [
    {
     "name": "stdout",
     "output_type": "stream",
     "text": [
      "column: conc_feed, size: 1498 -> dropped\n",
      "column: conc_prmt, size: 384 -> dropped\n",
      "column: flow_feed, size: 1527 -> kept\n",
      "column: flow_prmt, size: 1527 -> kept\n",
      "column: flux, size: 1527 -> kept\n",
      "column: flux_slope, size: 384 -> kept\n",
      "column: energy_CP, size: 1412 -> kept\n"
     ]
    },
    {
     "name": "stdout",
     "output_type": "stream",
     "text": [
      "column: energy_PP, size: 1229 -> kept\n",
      "column: energy_per_m3, size: 384 -> dropped\n",
      "column: res_tot, size: 1543 -> kept\n",
      "column: temperature, size: 384 -> kept\n",
      "column: temperature_sqrt, size: 384 -> dropped\n",
      "column: viscosity, size: 384 -> kept\n",
      "column: vol_feed, size: 1527 -> kept\n",
      "column: vol_prmt, size: 1527 -> kept\n",
      "column: time_min, size: 384 -> dropped\n",
      "column: time_hrs, size: 384 -> dropped\n",
      "column: time_since_update, size: 384 -> dropped\n",
      "column: FIXED_TEMPERATURE, size: 384 -> kept\n",
      "column: AREA_TOT, size: 384 -> dropped\n",
      "column: conc_feed_0, size: 384 -> dropped\n",
      "column: flow_rtnt, size: 384 -> kept\n",
      "column: flux_min, size: 384 -> kept\n",
      "column: prs_rtnt, size: 384 -> kept\n",
      "column: prs_feed_1, size: 384 -> dropped\n",
      "column: prs_feed_2, size: 384 -> dropped\n",
      "column: prs_TMP, size: 384 -> kept\n",
      "column: prs_TMP_delta, size: 384 -> dropped\n",
      "column: vol_feed_0, size: 384 -> dropped\n",
      "column: weight_feed_0, size: 384 -> dropped\n"
     ]
    }
   ],
   "source": [
    "df_all = pd.read_csv(out_file_path_1, skiprows=1, names=['time [m]', 'value'])\n",
    "df_all['is_header'] = df_all['time [m]'].apply(lambda t : t[0] == '#')\n",
    "init_rows = np.array(df_all[df_all['is_header'] == True].index)\n",
    "init_rows = np.append(init_rows, len(df_all))\n",
    "out_df = None\n",
    "for i in range(len(init_rows)-1) :\n",
    "    df = pd.DataFrame()\n",
    "    cur_idx = init_rows[i]\n",
    "    nxt_idx = init_rows[i+1]\n",
    "    size = (nxt_idx-cur_idx-1)\n",
    "    col_name = df_all.loc[cur_idx, 'time [m]'][2:-3]\n",
    "    keep_col = col_name in COLUMNS_TO_KEEP\n",
    "    keep_col_msg = 'kept' if keep_col else 'dropped'\n",
    "    print(f'column: {col_name}, size: {size} -> {keep_col_msg}')\n",
    "    if  keep_col :\n",
    "        df['time [m]'] = (df_all['time [m]'][cur_idx+1:nxt_idx]).astype(float)\n",
    "        df[col_name] = (df_all['value'][cur_idx+1:nxt_idx]).astype(float)\n",
    "        df = df.drop_duplicates()\n",
    "        df['time equal as above'] = df['time [m]'].diff() < 0.01\n",
    "        duplicate_rows = df[(df['time equal as above'] == True) & (df[col_name].diff() < 1e-8)].index\n",
    "        df = df.drop(duplicate_rows, axis=0)\n",
    "        df['time [m]'] = df.apply(lambda row : row['time [m]'] if row['time equal as above'] == False else row['time [m]'] + 0.01, axis=1)\n",
    "        df['time [m]'] = (100 * df['time [m]']).astype(int)\n",
    "        df = df.drop(labels=['time equal as above'], axis=1)\n",
    "        df = df.drop_duplicates()\n",
    "        if out_df is None :\n",
    "            out_df = df\n",
    "        else :\n",
    "            out_df = pd.merge(out_df, df, how='outer', on='time [m]')\n",
    "out_df['time [m]'] = out_df['time [m]'].astype(float) / 100\n",
    "out_df['time [m]'] = out_df['time [m]'].apply(lambda t : t+0.01 if round(100*(t+0.01)) % 10 == 0 else t)\n",
    "out_df = out_df.sort_values(by=['time [m]']).reset_index(drop=True)\n",
    "out_df = out_df[1:].reset_index(drop=True)\n",
    "df = out_df"
   ]
  },
  {
   "cell_type": "code",
   "execution_count": 83,
   "metadata": {},
   "outputs": [],
   "source": [
    "TIME_IDX  = ROW_IDX_AS_TIME\n",
    "x_ax_lbl = 'time [m]' if TIME_IDX == ROW_IDX_AS_TIME else x_axis[TIME_IDX]"
   ]
  },
  {
   "cell_type": "code",
   "execution_count": 84,
   "metadata": {},
   "outputs": [
    {
     "name": "stdout",
     "output_type": "stream",
     "text": [
      "flux at 20° [L/m^2h]\n",
      "flux at 20°\n"
     ]
    }
   ],
   "source": [
    "CONST_TEMPERATURE = (df['FIXED_TEMPERATURE'].dropna().iloc[0] == 1.0)\n",
    "TEMPERATURE = int(df['temperature'].dropna().iloc[0])\n",
    "FLUX_COL = f'flux at {TEMPERATURE}° [L/m^2h]' if CONST_TEMPERATURE else 'flux [L/m^2h]'\n",
    "FLUX_USED = FLUX_COL[:-9]\n",
    "FLUX_MIN_COL = f'{FLUX_USED} min [L/m^2h]'\n",
    "print(FLUX_COL)\n",
    "print(FLUX_USED)"
   ]
  },
  {
   "cell_type": "code",
   "execution_count": 85,
   "metadata": {},
   "outputs": [],
   "source": [
    "df = df.rename({\n",
    "    'flow_feed' :       'flow feed [L/h]',\n",
    "    'flow_prmt' :       'flow permeate [L/h]',\n",
    "    'flux' :            FLUX_COL,\n",
    "    'flux_slope' :      'k(n=2)',\n",
    "    'energy_CP' :       'energy CP [kWh]',\n",
    "    'energy_PP' :       'energy PP [kWh]',\n",
    "    'res_tot' :         'res tot [1/m]',\n",
    "    'temperature' :     'temperature [°C]',\n",
    "    'viscosity' :       'viscosity permeate [Pa s]',\n",
    "    'vol_feed' :        'vol feed [L]',\n",
    "    'vol_prmt' :        'vol permeate [L]',\n",
    "    'FIXED_TEMPERATURE' :  'is temperature fixed',\n",
    "    'flow_rtnt' :        'flow retentate [L/h]',\n",
    "    'flux_min' :        f'{FLUX_USED} min [L/m^2h]',\n",
    "    'prs_TMP' :        'TMP [kPa]',\n",
    "    'prs_rtnt' :        'prs retentate [kPa]',\n",
    "}, axis=1)"
   ]
  },
  {
   "cell_type": "code",
   "execution_count": 86,
   "metadata": {},
   "outputs": [],
   "source": [
    "DISCRETE_COLUMNS = [\n",
    "    'is temperature fixed', 'flow retentate [L/h]', f'{FLUX_USED} min [L/m^2h]', 'TMP [kPa]', 'prs retentate [kPa]',\n",
    "]\n",
    "if CONST_TEMPERATURE :\n",
    "    DISCRETE_COLUMNS.append('temperature [°C]')\n",
    "    DISCRETE_COLUMNS.append('viscosity permeate [Pa s]')\n",
    "for c in DISCRETE_COLUMNS:\n",
    "    df[c] = df[c].ffill()"
   ]
  },
  {
   "cell_type": "code",
   "execution_count": 87,
   "metadata": {},
   "outputs": [],
   "source": [
    "cur_TMP = 330\n",
    "df[f'flux at 20° TMP={cur_TMP} [L/m^2h]'] = df['flux at 20° [L/m^2h]'] * (cur_TMP / df['TMP [kPa]'])"
   ]
  },
  {
   "cell_type": "code",
   "execution_count": 88,
   "metadata": {},
   "outputs": [],
   "source": [
    "BUCKET_SIZE = 50\n",
    "df['TMP class'] = df['TMP [kPa]'].astype(int).apply(lambda x : x // BUCKET_SIZE)\n",
    "df['TMP interval'] = df['TMP class'].apply(lambda x : f'{BUCKET_SIZE*x}-{BUCKET_SIZE*(x+1)-1}')\n",
    "df['TMP interval'] = df['TMP class'].apply(lambda x : BUCKET_SIZE*x)"
   ]
  },
  {
   "cell_type": "code",
   "execution_count": 89,
   "metadata": {},
   "outputs": [],
   "source": [
    "df.to_csv(out_file_path_2, index=False)"
   ]
  },
  {
   "cell_type": "code",
   "execution_count": 90,
   "metadata": {},
   "outputs": [],
   "source": [
    "if plot_scatterplot_matrix :\n",
    "    hue = None\n",
    "    corr_cols = [\n",
    "        'time [m]', 'flux at 20° [L/m^2h]', 'flux at 20° TMP=330 [L/m^2h]',\n",
    "        'energy CP [kWh]', 'energy PP [kWh]', 'res tot [1/m]', \n",
    "        'flow retentate [L/h]', 'flux at 20° min [L/m^2h]', 'TMP [kPa]',\n",
    "        'TMP interval'\n",
    "    ]\n",
    "    hue='TMP interval' #'TMP [kPa]'\n",
    "    #if len(conc_lines) > 1 :\n",
    "    #    # at least two concentrations\n",
    "    #    hue = 'initial feed concentration [g/L]'\n",
    "    #    corr_cols.append('initial feed concentration [g/L]')\n",
    "    sn.pairplot(df[corr_cols], hue=hue)"
   ]
  }
 ],
 "metadata": {
  "kernelspec": {
   "display_name": "Python 3",
   "language": "python",
   "name": "python3"
  },
  "language_info": {
   "codemirror_mode": {
    "name": "ipython",
    "version": 3
   },
   "file_extension": ".py",
   "mimetype": "text/x-python",
   "name": "python",
   "nbconvert_exporter": "python",
   "pygments_lexer": "ipython3",
   "version": "3.11.5"
  }
 },
 "nbformat": 4,
 "nbformat_minor": 2
}
